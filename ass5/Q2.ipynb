{
 "cells": [
  {
   "cell_type": "markdown",
   "metadata": {},
   "source": [
    "INV kinematics"
   ]
  },
  {
   "cell_type": "code",
   "execution_count": 2,
   "metadata": {},
   "outputs": [],
   "source": [
    "import numpy as np"
   ]
  },
  {
   "cell_type": "code",
   "execution_count": 3,
   "metadata": {},
   "outputs": [],
   "source": [
    "p_x = 10\n",
    "p_y = 5\n",
    "p_z = 15\n",
    "a_1 = 5\n",
    "a_2 = 3\n",
    "d_1 = a_1"
   ]
  },
  {
   "cell_type": "code",
   "execution_count": 4,
   "metadata": {},
   "outputs": [],
   "source": [
    "r = np.sqrt(p_x**2 + p_y**2)\n",
    "s = p_z - d_1\n",
    "d_3 = np.sqrt(r**2 + s**2) - a_2"
   ]
  },
  {
   "cell_type": "code",
   "execution_count": 5,
   "metadata": {},
   "outputs": [],
   "source": [
    "theta_1 = np.arctan2(p_x,p_y)\n",
    "theta_2 = np.arctan2(r,s)"
   ]
  },
  {
   "cell_type": "code",
   "execution_count": 6,
   "metadata": {},
   "outputs": [
    {
     "data": {
      "text/plain": [
       "np.float64(12.0)"
      ]
     },
     "execution_count": 6,
     "metadata": {},
     "output_type": "execute_result"
    }
   ],
   "source": [
    "d_3"
   ]
  },
  {
   "cell_type": "markdown",
   "metadata": {},
   "source": [
    "FWD kinematics"
   ]
  },
  {
   "cell_type": "code",
   "execution_count": 7,
   "metadata": {},
   "outputs": [],
   "source": [
    "def R_x (theta): \n",
    "    R_x = np.array([[1,0,0], [0,np.cos(theta), -np.sin(theta)], [0,np.sin(theta), np.cos(theta)]])\n",
    "    return R_x\n",
    "\n",
    "def R_y (theta):\n",
    "    R_y = np.array([[np.cos(theta), 0, np.sin(theta)], [0,1,0], [-np.sin(theta), 0, np.cos(theta)]])\n",
    "    return R_y\n",
    "\n",
    "def R_z (theta):\n",
    "    R_z = np.array([[np.cos(theta), -np.sin(theta), 0], [np.sin(theta), np.cos(theta),0], [0,0,1]])\n",
    "    return R_z\n",
    "\n",
    "def end_effector(x,y,z):\n",
    "    p = np.array([x,y,z,1])\n",
    "    return p \n",
    "\n",
    "def H_trnsf(R,p):\n",
    "    H = np.array([[R[0][0], R[0][1], R[0][2], p[0]],\n",
    "            [R[1][0], R[1][1], R[1][2], p[1]],\n",
    "            [R[2][0], R[2][1], R[2][2], p[2]],\n",
    "            [0,0,0,1]])\n",
    "    return H"
   ]
  },
  {
   "cell_type": "code",
   "execution_count": 8,
   "metadata": {},
   "outputs": [],
   "source": [
    "def Stanford(q1,q2,h1,l1,l2):\n",
    "    H01 = H_trnsf(R_z(np.deg2rad(q1)),end_effector(0,0,0))\n",
    "    H12 = H_trnsf(R_x(np.deg2rad(90)),end_effector(0,0,h1))\n",
    "    H23 = H_trnsf(R_y(np.deg2rad(q2)),end_effector(0,0,0))\n",
    "    H34 = H_trnsf((np.eye(3)),end_effector(0,0,l1))\n",
    "    p = end_effector(l2, 0, 0)\n",
    "\n",
    "    return H01@H12@H23@H34@p"
   ]
  },
  {
   "cell_type": "code",
   "execution_count": 9,
   "metadata": {},
   "outputs": [
    {
     "data": {
      "text/plain": [
       "array([-1.63343685, 12.26099034,  5.        ,  1.        ])"
      ]
     },
     "execution_count": 9,
     "metadata": {},
     "output_type": "execute_result"
    }
   ],
   "source": [
    "Stanford(np.rad2deg(theta_1),np.rad2deg(theta_2),a_1,a_2,d_3)"
   ]
  }
 ],
 "metadata": {
  "kernelspec": {
   "display_name": "Python 3",
   "language": "python",
   "name": "python3"
  },
  "language_info": {
   "codemirror_mode": {
    "name": "ipython",
    "version": 3
   },
   "file_extension": ".py",
   "mimetype": "text/x-python",
   "name": "python",
   "nbconvert_exporter": "python",
   "pygments_lexer": "ipython3",
   "version": "3.10.5"
  }
 },
 "nbformat": 4,
 "nbformat_minor": 2
}
