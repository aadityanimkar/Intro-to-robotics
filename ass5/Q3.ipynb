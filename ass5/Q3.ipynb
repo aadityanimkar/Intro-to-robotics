{
 "cells": [
  {
   "cell_type": "code",
   "execution_count": 8,
   "metadata": {},
   "outputs": [],
   "source": [
    "import numpy as np\n",
    "from main import *"
   ]
  },
  {
   "cell_type": "code",
   "execution_count": 9,
   "metadata": {},
   "outputs": [],
   "source": [
    "theta = [np.radians(30), np.radians(45), np.radians(60)]\n",
    "alpha = [np.radians(90), -np.radians(90), 0]\n",
    "d = [0.5, 0.5, 0.5]\n",
    "a = [0.2,0.3,0.1]"
   ]
  },
  {
   "cell_type": "code",
   "execution_count": 10,
   "metadata": {},
   "outputs": [],
   "source": [
    "def joint_velocities(X_dot, dh_params):\n",
    "    J = Jacobian(dh_params)\n",
    "    J_inv = np.linalg.pinv(J)\n",
    "    q_dot = J_inv @ X_dot\n",
    "    \n",
    "    return q_dot"
   ]
  },
  {
   "cell_type": "code",
   "execution_count": 11,
   "metadata": {},
   "outputs": [],
   "source": [
    "dh = DH_matrix(theta, alpha, a, d)\n",
    "x_dot = np.array([0.5,1,1.5,2,2.5,3])"
   ]
  },
  {
   "cell_type": "code",
   "execution_count": 12,
   "metadata": {},
   "outputs": [
    {
     "name": "stdout",
     "output_type": "stream",
     "text": [
      "Joint Velocities:\n",
      "[ 6.01258134 -0.95837218 -4.3473405 ]\n"
     ]
    }
   ],
   "source": [
    "q_dot = joint_velocities(x_dot, dh)\n",
    "\n",
    "print(\"Joint Velocities:\")\n",
    "print(q_dot)"
   ]
  }
 ],
 "metadata": {
  "kernelspec": {
   "display_name": "Python 3",
   "language": "python",
   "name": "python3"
  },
  "language_info": {
   "codemirror_mode": {
    "name": "ipython",
    "version": 3
   },
   "file_extension": ".py",
   "mimetype": "text/x-python",
   "name": "python",
   "nbconvert_exporter": "python",
   "pygments_lexer": "ipython3",
   "version": "3.10.5"
  }
 },
 "nbformat": 4,
 "nbformat_minor": 2
}
