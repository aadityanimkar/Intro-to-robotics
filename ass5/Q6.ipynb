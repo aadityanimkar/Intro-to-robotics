{
 "cells": [
  {
   "cell_type": "code",
   "execution_count": 1,
   "metadata": {},
   "outputs": [],
   "source": [
    "import numpy as np\n",
    "from main import *"
   ]
  },
  {
   "cell_type": "code",
   "execution_count": 6,
   "metadata": {},
   "outputs": [],
   "source": [
    "theta = 30\n",
    "phi = 45\n",
    "psi = 60\n",
    "\n",
    "c = lambda angle: np.cos(np.deg2rad(angle))\n",
    "s = lambda angle: np.sin(np.deg2rad(angle))"
   ]
  },
  {
   "cell_type": "code",
   "execution_count": 7,
   "metadata": {},
   "outputs": [],
   "source": [
    "def wrist_calculations(R_final):\n",
    "    u_33 = R_final[2, 2]\n",
    "    u_13 = R_final[0, 2]\n",
    "    u_23 = R_final[1, 2]\n",
    "    u_31 = R_final[2, 0]\n",
    "    u_32 = R_final[2, 1]\n",
    "    \n",
    "    theta = np.arctan2(u_33, np.sqrt(1 - u_33**2))\n",
    "    phi = np.arctan2(u_13, u_23)\n",
    "    psi = np.arctan2(-u_31, u_32)\n",
    "\n",
    "    return np.rad2deg(theta), np.rad2deg(phi), np.rad2deg(psi)"
   ]
  },
  {
   "cell_type": "code",
   "execution_count": 8,
   "metadata": {},
   "outputs": [],
   "source": [
    "u11 = c(phi)*c(psi)*c(theta) - s(phi)*s(psi)\n",
    "u12 = -c(phi)*c(theta)*s(psi) - s(phi)*c(psi)\n",
    "u13 = c(phi)*s(theta)\n",
    "u21 = s(phi)*c(psi)*c(theta) + c(phi)*s(psi)\n",
    "u22 = -s(phi)*c(theta)*s(psi) + c(phi)*c(psi)\n",
    "u23 = s(phi)*s(theta)\n",
    "u31 = -s(theta)*c(psi)\n",
    "u32 = s(theta)*s(psi)\n",
    "u33 = c(theta)\n",
    "\n",
    "R =  np.array([[u11, u12, u13],[u21, u22, u23],[u31, u32, u33]])"
   ]
  },
  {
   "cell_type": "code",
   "execution_count": 9,
   "metadata": {},
   "outputs": [
    {
     "data": {
      "text/plain": [
       "(np.float64(60.00000000000001),\n",
       " np.float64(45.0),\n",
       " np.float64(30.000000000000004))"
      ]
     },
     "execution_count": 9,
     "metadata": {},
     "output_type": "execute_result"
    }
   ],
   "source": [
    "wrist_calculations(R)"
   ]
  }
 ],
 "metadata": {
  "kernelspec": {
   "display_name": "Python 3",
   "language": "python",
   "name": "python3"
  },
  "language_info": {
   "codemirror_mode": {
    "name": "ipython",
    "version": 3
   },
   "file_extension": ".py",
   "mimetype": "text/x-python",
   "name": "python",
   "nbconvert_exporter": "python",
   "pygments_lexer": "ipython3",
   "version": "3.10.5"
  }
 },
 "nbformat": 4,
 "nbformat_minor": 2
}
