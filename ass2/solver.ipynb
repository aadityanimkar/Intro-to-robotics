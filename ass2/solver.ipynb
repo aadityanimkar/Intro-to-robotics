{
 "cells": [
  {
   "cell_type": "code",
   "execution_count": 1,
   "metadata": {},
   "outputs": [],
   "source": [
    "import numpy as np"
   ]
  },
  {
   "cell_type": "markdown",
   "metadata": {},
   "source": [
    "Rotation and transformation matrices"
   ]
  },
  {
   "cell_type": "code",
   "execution_count": 4,
   "metadata": {},
   "outputs": [],
   "source": [
    "def R_x (theta): \n",
    "    R_x = np.array([[1,0,0], [0,np.cos(theta), -np.sin(theta)], [0,np.sin(theta), np.cos(theta)]])\n",
    "    return R_x\n",
    "\n",
    "def R_y (theta):\n",
    "    R_y = np.array([[np.cos(theta), 0, np.sin(theta)], [0,1,0], [-np.sin(theta), 0, np.cos(theta)]])\n",
    "    return R_y\n",
    "\n",
    "def R_z (theta):\n",
    "    R_z = np.array([[np.cos(theta), -np.sin(theta), 0], [np.sin(theta), np.cos(theta),0], [0,0,1]])\n",
    "    return R_z\n",
    "\n",
    "def end_effector(x,y,z):\n",
    "    p = np.array([x,y,z,1])\n",
    "    return p \n",
    "\n",
    "def H_trnsf(R,p):\n",
    "    H = np.array([[R[0][0], R[0][1], R[0][2], p[0]],\n",
    "            [R[1][0], R[1][1], R[1][2], p[1]],\n",
    "            [R[2][0], R[2][1], R[2][2], p[2]],\n",
    "            [0,0,0,1]])\n",
    "    return H"
   ]
  },
  {
   "cell_type": "markdown",
   "metadata": {},
   "source": [
    "- SCARA "
   ]
  },
  {
   "cell_type": "code",
   "execution_count": 9,
   "metadata": {},
   "outputs": [],
   "source": [
    "def SCARA(q1,q2,h1,h2,l1,l2):\n",
    "    H01 = H_trnsf(R_z(np.deg2rad(q1)),end_effector(0,0,h1))\n",
    "    H12 = H_trnsf(R_z(np.deg2rad(q2)),end_effector(l1,0,0))\n",
    "    H23 = H_trnsf(R_y(np.deg2rad(90)),end_effector(l2,0,0))\n",
    "    p = end_effector(h2, 0, 0)\n",
    "\n",
    "    return H01@H12@H23@p"
   ]
  },
  {
   "cell_type": "code",
   "execution_count": 11,
   "metadata": {},
   "outputs": [
    {
     "data": {
      "text/plain": [
       "array([18.16676196, 26.81851653,  7.        ,  1.        ])"
      ]
     },
     "execution_count": 11,
     "metadata": {},
     "output_type": "execute_result"
    }
   ],
   "source": [
    "SCARA(30,45,10,3,15,20)"
   ]
  },
  {
   "cell_type": "markdown",
   "metadata": {},
   "source": [
    "- Stanford"
   ]
  },
  {
   "cell_type": "code",
   "execution_count": 15,
   "metadata": {},
   "outputs": [],
   "source": [
    "def Stanford(q1,q2,h1,l1,l2):\n",
    "    H01 = H_trnsf(R_z(np.deg2rad(q1)),end_effector(0,0,0))\n",
    "    H12 = H_trnsf(R_x(np.deg2rad(90)),end_effector(0,0,h1))\n",
    "    H23 = H_trnsf(R_y(np.deg2rad(q2)),end_effector(0,0,0))\n",
    "    H34 = H_trnsf((np.eye(3)),end_effector(0,0,l1))\n",
    "    p = end_effector(l2, 0, 0)\n",
    "\n",
    "    return H01@H12@H23@H34@p"
   ]
  },
  {
   "cell_type": "code",
   "execution_count": 16,
   "metadata": {},
   "outputs": [
    {
     "data": {
      "text/plain": [
       "array([ 8.71191481, 13.19479217, 10.        ,  1.        ])"
      ]
     },
     "execution_count": 16,
     "metadata": {},
     "output_type": "execute_result"
    }
   ],
   "source": [
    "Stanford(30,45,10,5,15)"
   ]
  },
  {
   "cell_type": "markdown",
   "metadata": {},
   "source": [
    "- Drone"
   ]
  },
  {
   "cell_type": "code",
   "execution_count": 20,
   "metadata": {},
   "outputs": [],
   "source": [
    "def Drone():\n",
    "    H01 = H_trnsf(np.eye(3),end_effector(0,0,10))\n",
    "    H12 = H_trnsf(R_x(np.deg2rad(30)),end_effector(0,0,0))\n",
    "    H23 = H_trnsf(R_z(np.deg2rad(60)),end_effector(0,0,0))\n",
    "    p = end_effector(0, 0, 3)\n",
    "\n",
    "    return H01@H12@H23@p"
   ]
  },
  {
   "cell_type": "code",
   "execution_count": 21,
   "metadata": {},
   "outputs": [
    {
     "data": {
      "text/plain": [
       "array([ 0.        , -1.5       , 12.59807621,  1.        ])"
      ]
     },
     "execution_count": 21,
     "metadata": {},
     "output_type": "execute_result"
    }
   ],
   "source": [
    "Drone()"
   ]
  },
  {
   "cell_type": "code",
   "execution_count": null,
   "metadata": {},
   "outputs": [],
   "source": []
  }
 ],
 "metadata": {
  "kernelspec": {
   "display_name": "Python 3",
   "language": "python",
   "name": "python3"
  },
  "language_info": {
   "codemirror_mode": {
    "name": "ipython",
    "version": 3
   },
   "file_extension": ".py",
   "mimetype": "text/x-python",
   "name": "python",
   "nbconvert_exporter": "python",
   "pygments_lexer": "ipython3",
   "version": "3.10.5"
  }
 },
 "nbformat": 4,
 "nbformat_minor": 2
}
