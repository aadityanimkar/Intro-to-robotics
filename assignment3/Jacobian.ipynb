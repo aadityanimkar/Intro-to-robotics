{
 "cells": [
  {
   "cell_type": "markdown",
   "metadata": {},
   "source": [
    "Jacobian"
   ]
  },
  {
   "cell_type": "code",
   "execution_count": 1,
   "metadata": {},
   "outputs": [],
   "source": [
    "import numpy as np"
   ]
  },
  {
   "cell_type": "code",
   "execution_count": 2,
   "metadata": {},
   "outputs": [],
   "source": [
    "l1 = 5\n",
    "l2 = 4\n",
    "l3 = 3\n",
    "q1 = 45\n",
    "q2 = 30\n",
    "q3 = 60\n",
    "h = 10\n",
    "d= 6\n",
    "\n",
    "c = lambda angle: np.cos(np.deg2rad(angle))\n",
    "s = lambda angle: np.sin(np.deg2rad(angle))"
   ]
  },
  {
   "cell_type": "code",
   "execution_count": 3,
   "metadata": {},
   "outputs": [],
   "source": [
    "Z_i = np.array([0,0,1]).T\n",
    "j_v = lambda Z_i, O_i: np.cross(Z_i, (O_i)).T"
   ]
  },
  {
   "cell_type": "markdown",
   "metadata": {},
   "source": [
    "Jacobian for SCARA configuration"
   ]
  },
  {
   "cell_type": "code",
   "execution_count": 4,
   "metadata": {},
   "outputs": [],
   "source": [
    "Scara = np.array([[l1*c(q1), l1*s(q1), h], [l1*c(q1)+l2*c(q2), l1*s(q1)+l2*s(q2), h - d]]).T"
   ]
  },
  {
   "cell_type": "code",
   "execution_count": 6,
   "metadata": {},
   "outputs": [],
   "source": [
    "J_v = np.array([j_v(Z_i, Scara[:,1]), j_v(Z_i, Scara[:,0]), -1*Z_i])"
   ]
  },
  {
   "cell_type": "code",
   "execution_count": 8,
   "metadata": {},
   "outputs": [],
   "source": [
    "J_w = np.array([Z_i,Z_i,np.zeros(3)]).T"
   ]
  },
  {
   "cell_type": "code",
   "execution_count": 9,
   "metadata": {},
   "outputs": [],
   "source": [
    "J = np.vstack((J_v,J_w))"
   ]
  },
  {
   "cell_type": "code",
   "execution_count": 11,
   "metadata": {},
   "outputs": [
    {
     "data": {
      "text/plain": [
       "array([[-5.53553391,  6.99963552,  0.        ],\n",
       "       [-3.53553391,  3.53553391,  0.        ],\n",
       "       [ 0.        ,  0.        , -1.        ],\n",
       "       [ 0.        ,  0.        ,  0.        ],\n",
       "       [ 0.        ,  0.        ,  0.        ],\n",
       "       [ 1.        ,  1.        ,  0.        ]])"
      ]
     },
     "execution_count": 11,
     "metadata": {},
     "output_type": "execute_result"
    }
   ],
   "source": [
    "J"
   ]
  },
  {
   "cell_type": "markdown",
   "metadata": {},
   "source": [
    "Jacobian for 3R Planar configuration"
   ]
  },
  {
   "cell_type": "code",
   "execution_count": 12,
   "metadata": {},
   "outputs": [],
   "source": [
    "Planar_3R = np.array([[l1*c(q1), l1*s(q1), 0], [l1*c(q1)+l2*c(q2), l1*s(q1)+l2*s(q2), 0],[l1*c(q1)+l2*c(q2)+l3*c(q3), l1*c(q1)+l2*c(q2)+l3*c(q3), 0]]).T"
   ]
  },
  {
   "cell_type": "code",
   "execution_count": 14,
   "metadata": {},
   "outputs": [],
   "source": [
    "J_v_planar = np.array([j_v(Z_i, Planar_3R[:,2]), j_v(Z_i, Planar_3R[:,1]), j_v(Z_i, Planar_3R[:,0])]).T"
   ]
  },
  {
   "cell_type": "code",
   "execution_count": 16,
   "metadata": {},
   "outputs": [],
   "source": [
    "J_w_planar = np.array([Z_i,Z_i,Z_i]).T"
   ]
  },
  {
   "cell_type": "code",
   "execution_count": 17,
   "metadata": {},
   "outputs": [],
   "source": [
    "J_planar = np.vstack((J_v_planar, J_w_planar))"
   ]
  },
  {
   "cell_type": "code",
   "execution_count": 18,
   "metadata": {},
   "outputs": [
    {
     "data": {
      "text/plain": [
       "array([[-8.49963552, -5.53553391, -3.53553391],\n",
       "       [ 8.49963552,  6.99963552,  3.53553391],\n",
       "       [ 0.        ,  0.        ,  0.        ],\n",
       "       [ 0.        ,  0.        ,  0.        ],\n",
       "       [ 0.        ,  0.        ,  0.        ],\n",
       "       [ 1.        ,  1.        ,  1.        ]])"
      ]
     },
     "execution_count": 18,
     "metadata": {},
     "output_type": "execute_result"
    }
   ],
   "source": [
    "J_planar"
   ]
  }
 ],
 "metadata": {
  "kernelspec": {
   "display_name": "Python 3",
   "language": "python",
   "name": "python3"
  },
  "language_info": {
   "codemirror_mode": {
    "name": "ipython",
    "version": 3
   },
   "file_extension": ".py",
   "mimetype": "text/x-python",
   "name": "python",
   "nbconvert_exporter": "python",
   "pygments_lexer": "ipython3",
   "version": "3.10.5"
  }
 },
 "nbformat": 4,
 "nbformat_minor": 2
}
