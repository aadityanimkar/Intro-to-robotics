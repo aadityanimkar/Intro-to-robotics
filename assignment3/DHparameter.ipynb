{
 "cells": [
  {
   "cell_type": "markdown",
   "metadata": {},
   "source": [
    "DH Parameter solver"
   ]
  },
  {
   "cell_type": "code",
   "execution_count": 2,
   "metadata": {},
   "outputs": [],
   "source": [
    "import numpy as np\n",
    "import sympy as sp"
   ]
  },
  {
   "cell_type": "code",
   "execution_count": 3,
   "metadata": {},
   "outputs": [],
   "source": [
    "c = lambda angle: round(np.cos(angle),2)\n",
    "s = lambda angle: round(np.sin(angle),2)"
   ]
  },
  {
   "cell_type": "code",
   "execution_count": 4,
   "metadata": {},
   "outputs": [],
   "source": [
    "def DH_matrix(theta,alpha,a,d):\n",
    "    mat = []\n",
    "    for i in range(len(theta)):\n",
    "        mat.append([round(np.deg2rad(theta[i]),2), np.round(np.deg2rad(alpha[i]),2), a[i],d[i]])\n",
    "    return np.array(mat)"
   ]
  },
  {
   "cell_type": "code",
   "execution_count": 5,
   "metadata": {},
   "outputs": [],
   "source": [
    "T = lambda dh:np.array([\n",
    "    [c(dh[0]), -s(dh[0])*c(dh[1]), s(dh[0])*s(dh[1]), dh[2]*c(dh[0])],\n",
    "    [s(dh[0]), c(dh[0])*c(dh[1]), -c(dh[0])*s(dh[1]), dh[2]*s(dh[0])],\n",
    "    [0, s(dh[1]), c(dh[1]), dh[3]],\n",
    "    [0,0,0,1]\n",
    "    ])"
   ]
  },
  {
   "cell_type": "code",
   "execution_count": 6,
   "metadata": {},
   "outputs": [],
   "source": [
    "def EE(dh, T):\n",
    "    ans = []\n",
    "    p = []\n",
    "    I = np.eye(4)\n",
    "    for i in range(len(dh)):\n",
    "        I = I@T(dh[i,:])\n",
    "        p.append(I[:3,3])\n",
    "        ans = I\n",
    "    return ans,p"
   ]
  },
  {
   "cell_type": "code",
   "execution_count": 7,
   "metadata": {},
   "outputs": [],
   "source": [
    "def jacobian_calculator(p, config):\n",
    "    J = []\n",
    "    Z_i = np.array([0, 0, 1])  # Initial Z axis for the base frame\n",
    "    O_i = np.array([0, 0, 0])  # Initial origin for the base frame\n",
    "    \n",
    "    for i in range(len(config)):\n",
    "        j_v = np.zeros(3)\n",
    "        j_w = np.zeros(3)\n",
    "        O_j = p[i]  # Position vector of the i-th joint\n",
    "        \n",
    "        if config[i].lower() == 'r':    # Revolute joint\n",
    "            j_v = np.cross(Z_i, (O_j - O_i))\n",
    "            j_w = Z_i\n",
    "        elif config[i].lower() == 'p':  # Prismatic joint\n",
    "            j_v = Z_i\n",
    "            j_w = np.zeros(3)\n",
    "\n",
    "        # Combined Jacobian matrix\n",
    "        J_i = np.hstack((j_v, j_w))\n",
    "        J.append(J_i)\n",
    "\n",
    "        # Update Z_i and O_i for the next joint\n",
    "        if i < len(config) - 1:\n",
    "            Z_i = np.array([0, 0, 1])  \n",
    "            O_i = O_j                   # Update origin \n",
    "\n",
    "    J = np.array(J).T\n",
    "    return J"
   ]
  },
  {
   "cell_type": "code",
   "execution_count": 8,
   "metadata": {},
   "outputs": [],
   "source": [
    "def EE_velocity(J, joint_velocity):\n",
    "    return J[:3, :]@np.array(joint_velocity).T"
   ]
  },
  {
   "cell_type": "markdown",
   "metadata": {},
   "source": [
    "SCARA "
   ]
  },
  {
   "cell_type": "code",
   "execution_count": 9,
   "metadata": {},
   "outputs": [],
   "source": [
    "theta = [60,30,0,10]\n",
    "alpha = [0,180,0,0]\n",
    "a = [1,2,0,0]\n",
    "d = [0,0,5,3]\n",
    "joint_velocity = [0.5, 0.6, 0.7, 0.8]"
   ]
  },
  {
   "cell_type": "code",
   "execution_count": 10,
   "metadata": {},
   "outputs": [],
   "source": [
    "a = DH_matrix(theta,alpha,a,d)"
   ]
  },
  {
   "cell_type": "code",
   "execution_count": 11,
   "metadata": {},
   "outputs": [
    {
     "data": {
      "text/plain": [
       "array([[ 0.171173,  0.996831,  0.      ,  0.5     ],\n",
       "       [ 0.996831, -0.171173,  0.      ,  2.8838  ],\n",
       "       [ 0.      ,  0.      , -1.      , -8.      ],\n",
       "       [ 0.      ,  0.      ,  0.      ,  1.      ]])"
      ]
     },
     "execution_count": 11,
     "metadata": {},
     "output_type": "execute_result"
    }
   ],
   "source": [
    "T_0n, p = EE(a, T)\n",
    "T_0n"
   ]
  },
  {
   "cell_type": "code",
   "execution_count": 12,
   "metadata": {},
   "outputs": [
    {
     "data": {
      "text/plain": [
       "array([[-0.87  , -2.0138,  0.    , -0.    ],\n",
       "       [ 0.5   ,  0.    ,  0.    ,  0.    ],\n",
       "       [ 0.    ,  0.    ,  1.    ,  0.    ],\n",
       "       [ 0.    ,  0.    ,  0.    ,  0.    ],\n",
       "       [ 0.    ,  0.    ,  0.    ,  0.    ],\n",
       "       [ 1.    ,  1.    ,  0.    ,  1.    ]])"
      ]
     },
     "execution_count": 12,
     "metadata": {},
     "output_type": "execute_result"
    }
   ],
   "source": [
    "J_scara = jacobian_calculator(p, \"RRPR\")\n",
    "J_scara"
   ]
  },
  {
   "cell_type": "code",
   "execution_count": 13,
   "metadata": {},
   "outputs": [
    {
     "data": {
      "text/plain": [
       "array([-1.64328,  0.25   ,  0.7    ])"
      ]
     },
     "execution_count": 13,
     "metadata": {},
     "output_type": "execute_result"
    }
   ],
   "source": [
    "EE_velocity(J_scara, joint_velocity)"
   ]
  },
  {
   "cell_type": "markdown",
   "metadata": {},
   "source": [
    "Question 9 - PPP Configuration"
   ]
  },
  {
   "cell_type": "code",
   "execution_count": 14,
   "metadata": {},
   "outputs": [],
   "source": [
    "theta_9 = [0,90,0]\n",
    "alpha_9 = [-90, 90, 0]\n",
    "a_9 = [0,0,0]\n",
    "d_9 = [3,4,5]\n",
    "jv = [0.1,.2,3]"
   ]
  },
  {
   "cell_type": "code",
   "execution_count": 25,
   "metadata": {},
   "outputs": [
    {
     "data": {
      "text/plain": [
       "array([[ 0.  , -1.57,  0.  ,  3.  ],\n",
       "       [ 1.57,  1.57,  0.  ,  4.  ],\n",
       "       [ 0.  ,  0.  ,  0.  ,  5.  ]])"
      ]
     },
     "execution_count": 25,
     "metadata": {},
     "output_type": "execute_result"
    }
   ],
   "source": [
    "dh_9 = DH_matrix(theta_9, alpha_9, a_9, d_9)\n",
    "dh_9"
   ]
  },
  {
   "cell_type": "code",
   "execution_count": 17,
   "metadata": {},
   "outputs": [],
   "source": [
    "T_9,p_9 = EE(dh_9, T)"
   ]
  },
  {
   "cell_type": "code",
   "execution_count": 19,
   "metadata": {},
   "outputs": [
    {
     "data": {
      "text/plain": [
       "array([[0., 0., 0.],\n",
       "       [0., 0., 0.],\n",
       "       [1., 1., 1.],\n",
       "       [0., 0., 0.],\n",
       "       [0., 0., 0.],\n",
       "       [0., 0., 0.]])"
      ]
     },
     "execution_count": 19,
     "metadata": {},
     "output_type": "execute_result"
    }
   ],
   "source": [
    "J_9= jacobian_calculator(p_9,\"PPP\")\n",
    "J_9"
   ]
  },
  {
   "cell_type": "code",
   "execution_count": 20,
   "metadata": {},
   "outputs": [
    {
     "data": {
      "text/plain": [
       "array([0. , 0. , 3.3])"
      ]
     },
     "execution_count": 20,
     "metadata": {},
     "output_type": "execute_result"
    }
   ],
   "source": [
    "EE_velocity(J_9, jv)"
   ]
  },
  {
   "cell_type": "markdown",
   "metadata": {},
   "source": [
    "Question 10 - RRRRR Configuration"
   ]
  },
  {
   "cell_type": "code",
   "execution_count": 21,
   "metadata": {},
   "outputs": [],
   "source": [
    "a_10 = [0,0,0,0,0,0,0]\n",
    "d_10 = [0, 2,3,4,5,6,7]\n",
    "theta_10 = [10,20,30,40,50,60,70]\n",
    "alpha_10 = [0, 90,0,0,-90,0,0]"
   ]
  },
  {
   "cell_type": "code",
   "execution_count": 22,
   "metadata": {},
   "outputs": [
    {
     "data": {
      "text/plain": [
       "array([[ 0.17,  0.  ,  0.  ,  0.  ],\n",
       "       [ 0.35,  1.57,  0.  ,  2.  ],\n",
       "       [ 0.52,  0.  ,  0.  ,  3.  ],\n",
       "       [ 0.7 ,  0.  ,  0.  ,  4.  ],\n",
       "       [ 0.87, -1.57,  0.  ,  5.  ],\n",
       "       [ 1.05,  0.  ,  0.  ,  6.  ],\n",
       "       [ 1.22,  0.  ,  0.  ,  7.  ]])"
      ]
     },
     "execution_count": 22,
     "metadata": {},
     "output_type": "execute_result"
    }
   ],
   "source": [
    "dh_10 = DH_matrix(theta_10,alpha_10,a_10,d_10)\n",
    "dh_10"
   ]
  },
  {
   "cell_type": "code",
   "execution_count": 23,
   "metadata": {},
   "outputs": [
    {
     "data": {
      "text/plain": [
       "array([[ -0.10106176,   0.65148534,  -0.7496165 ,  -3.78821449],\n",
       "       [  0.82711617,  -0.3777612 ,  -0.42634009, -16.01602116],\n",
       "       [ -0.5563721 ,  -0.65771805,  -0.4936    ,  -4.4168    ],\n",
       "       [  0.        ,   0.        ,   0.        ,   1.        ]])"
      ]
     },
     "execution_count": 23,
     "metadata": {},
     "output_type": "execute_result"
    }
   ],
   "source": [
    "T_10,p_10 = EE(dh_10,T)\n",
    "T_10"
   ]
  },
  {
   "cell_type": "code",
   "execution_count": 24,
   "metadata": {},
   "outputs": [
    {
     "data": {
      "text/plain": [
       "[array([0., 0., 0.]),\n",
       " array([0., 0., 2.]),\n",
       " array([ 1.4892, -2.6184,  2.    ]),\n",
       " array([ 3.4748, -6.1096,  2.    ]),\n",
       " array([  5.9568, -10.4736,   2.    ]),\n",
       " array([  1.459101  , -13.03164054,  -0.9616    ]),\n",
       " array([ -3.78821449, -16.01602116,  -4.4168    ])]"
      ]
     },
     "execution_count": 24,
     "metadata": {},
     "output_type": "execute_result"
    }
   ],
   "source": [
    "p_10"
   ]
  }
 ],
 "metadata": {
  "kernelspec": {
   "display_name": "Python 3",
   "language": "python",
   "name": "python3"
  },
  "language_info": {
   "codemirror_mode": {
    "name": "ipython",
    "version": 3
   },
   "file_extension": ".py",
   "mimetype": "text/x-python",
   "name": "python",
   "nbconvert_exporter": "python",
   "pygments_lexer": "ipython3",
   "version": "3.10.5"
  }
 },
 "nbformat": 4,
 "nbformat_minor": 2
}
